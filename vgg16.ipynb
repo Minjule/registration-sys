{
  "cells": [
    {
      "cell_type": "markdown",
      "metadata": {
        "colab_type": "text",
        "id": "view-in-github"
      },
      "source": [
        "<a href=\"https://colab.research.google.com/github/Minjule/registration-sys/blob/main/vgg16.ipynb\" target=\"_parent\"><img src=\"https://colab.research.google.com/assets/colab-badge.svg\" alt=\"Open In Colab\"/></a>"
      ]
    },
    {
      "cell_type": "code",
      "execution_count": 1,
      "metadata": {
        "id": "TzawweivMzPR"
      },
      "outputs": [
        {
          "name": "stdout",
          "output_type": "stream",
          "text": [
            "Extraction Completed\n"
          ]
        }
      ],
      "source": [
        "from zipfile import ZipFile\n",
        "file_path = \"C:\\\\Users\\\\Acer\\\\Desktop\\\\academy\\\\ocular desease recognition\\\\splitted.zip\"\n",
        "with ZipFile(file_path, 'r') as zip_file:\n",
        "  zip_file.extractall()\n",
        "  print('Extraction Completed')"
      ]
    },
    {
      "cell_type": "code",
      "execution_count": 2,
      "metadata": {
        "id": "LGZ0Vd87NGxS"
      },
      "outputs": [
        {
          "name": "stdout",
          "output_type": "stream",
          "text": [
            "WARNING:tensorflow:From c:\\Users\\Acer\\AppData\\Local\\Programs\\Python\\Python310\\lib\\site-packages\\keras\\src\\losses.py:2976: The name tf.losses.sparse_softmax_cross_entropy is deprecated. Please use tf.compat.v1.losses.sparse_softmax_cross_entropy instead.\n",
            "\n"
          ]
        }
      ],
      "source": [
        "import os\n",
        "import math\n",
        "import pandas as pd\n",
        "import matplotlib.pyplot as plt\n",
        "import numpy as np\n",
        "import random as python_random\n",
        "import tensorflow as tf\n",
        "import seaborn as sns\n",
        "import math\n",
        "from sklearn.metrics import classification_report, confusion_matrix\n",
        "from keras.preprocessing.image import ImageDataGenerator\n",
        "import cv2\n",
        "from keras.callbacks import ModelCheckpoint\n",
        "from keras.callbacks import EarlyStopping\n",
        "from keras import backend as K\n",
        "from keras.applications import VGG16\n",
        "from keras.layers import Flatten, Dense, Dropout, GlobalAveragePooling2D\n",
        "from keras.models import Sequential\n",
        "from keras.optimizers import Adam"
      ]
    },
    {
      "cell_type": "code",
      "execution_count": 3,
      "metadata": {
        "id": "52qe-Y74NIri"
      },
      "outputs": [],
      "source": [
        "np.random.seed(42)\n",
        "tf.random.set_seed(42)"
      ]
    },
    {
      "cell_type": "code",
      "execution_count": 6,
      "metadata": {
        "id": "Mn3AfO1KNPMh"
      },
      "outputs": [
        {
          "name": "stdout",
          "output_type": "stream",
          "text": [
            "Found 5110 images belonging to 8 classes.\n",
            "Found 643 images belonging to 8 classes.\n"
          ]
        }
      ],
      "source": [
        "train_dir = \"C:\\\\Users\\\\Acer\\\\Documents\\\\GitHub\\\\registration-sys\\\\splitted\\\\train\"\n",
        "test_dir = \"C:\\\\Users\\\\Acer\\\\Documents\\\\GitHub\\\\registration-sys\\\\splitted\\\\test\"\n",
        "\n",
        "train_datagen = ImageDataGenerator()  # You can add data augmentation here if needed\n",
        "test_datagen = ImageDataGenerator()\n",
        "\n",
        "train_generator = train_datagen.flow_from_directory(\n",
        "    directory = train_dir,\n",
        "    target_size=(250, 250),\n",
        "    batch_size=4,\n",
        "    class_mode='sparse',\n",
        "    shuffle=True,\n",
        "    classes={'ageDegeneration': 0, 'cataract': 1,'diabetes': 2, 'glaucoma':3, 'hypertension':4, 'myopia':5, 'normal':6, 'others':7}\n",
        "    )\n",
        "\n",
        "test_generator = test_datagen.flow_from_directory(\n",
        "    directory = test_dir,\n",
        "    target_size=(250, 250),\n",
        "    batch_size=4,\n",
        "    class_mode='sparse',\n",
        "    shuffle=False,\n",
        "    classes={'ageDegeneration': 0, 'cataract': 1,'diabetes': 2, 'glaucoma':3, 'hypertension':4, 'myopia':5, 'normal':6, 'others':7}\n",
        "    )\n",
        "\n",
        "# shuffle=True will shuffle the images and labels within each batch\n",
        "#  but the correspondence between the images and labels will be maintained."
      ]
    },
    {
      "cell_type": "code",
      "execution_count": 7,
      "metadata": {
        "id": "BnWjRNd_NPyB"
      },
      "outputs": [],
      "source": [
        "total_image = np.concatenate([train_generator.labels,test_generator.labels])"
      ]
    },
    {
      "cell_type": "code",
      "execution_count": 9,
      "metadata": {
        "id": "qop5NEDwNTpB"
      },
      "outputs": [
        {
          "name": "stdout",
          "output_type": "stream",
          "text": [
            "ageDegeneration:  239\n",
            "cataract:  264\n",
            "diabetes:  1447\n",
            "glaucoma:  256\n",
            "hypertension:  115\n",
            "myopia:  209\n",
            "normal:  2586\n",
            "others:  637\n"
          ]
        }
      ],
      "source": [
        "print('ageDegeneration: ',len(np.where(total_image==0)[0]))\n",
        "print('cataract: ',len(np.where(total_image==1)[0]))\n",
        "print('diabetes: ',len(np.where(total_image==2)[0]))\n",
        "print('glaucoma: ',len(np.where(total_image==3)[0]))\n",
        "print('hypertension: ',len(np.where(total_image==4)[0]))\n",
        "print('myopia: ',len(np.where(total_image==5)[0]))\n",
        "print('normal: ',len(np.where(total_image==6)[0]))\n",
        "print('others: ',len(np.where(total_image==7)[0]))"
      ]
    },
    {
      "cell_type": "markdown",
      "metadata": {
        "id": "2uw40pOSNdZm"
      },
      "source": [
        "# ***Implementing VGG16 - Transfer Learning***"
      ]
    },
    {
      "cell_type": "code",
      "execution_count": 10,
      "metadata": {
        "id": "CoOAU7hENW5r"
      },
      "outputs": [
        {
          "name": "stdout",
          "output_type": "stream",
          "text": [
            "WARNING:tensorflow:From c:\\Users\\Acer\\AppData\\Local\\Programs\\Python\\Python310\\lib\\site-packages\\keras\\src\\backend.py:277: The name tf.reset_default_graph is deprecated. Please use tf.compat.v1.reset_default_graph instead.\n",
            "\n"
          ]
        }
      ],
      "source": [
        "tf.keras.backend.clear_session()"
      ]
    },
    {
      "cell_type": "code",
      "execution_count": 11,
      "metadata": {
        "id": "6Ujv4Y_fNlI5"
      },
      "outputs": [
        {
          "name": "stdout",
          "output_type": "stream",
          "text": [
            "WARNING:tensorflow:From c:\\Users\\Acer\\AppData\\Local\\Programs\\Python\\Python310\\lib\\site-packages\\keras\\src\\layers\\pooling\\max_pooling2d.py:161: The name tf.nn.max_pool is deprecated. Please use tf.nn.max_pool2d instead.\n",
            "\n",
            "Downloading data from https://storage.googleapis.com/tensorflow/keras-applications/vgg16/vgg16_weights_tf_dim_ordering_tf_kernels_notop.h5\n",
            "58889256/58889256 [==============================] - 11s 0us/step\n"
          ]
        }
      ],
      "source": [
        "# Loading VGG16 Model with Pre-trained Weights - without final (top) later as we will customize it\n",
        "base_model = VGG16(weights='imagenet',\n",
        "                   include_top=False,\n",
        "                   input_shape=(250, 250, 3))"
      ]
    },
    {
      "cell_type": "code",
      "execution_count": 12,
      "metadata": {
        "id": "g0lqnK0lNn0Q"
      },
      "outputs": [],
      "source": [
        "# Freeze the layers of the base model\n",
        "# so that ony final layer learns from new dataset\n",
        "for layer in base_model.layers:\n",
        "    layer.trainable = False"
      ]
    },
    {
      "cell_type": "code",
      "execution_count": 13,
      "metadata": {
        "id": "dboD06SkNqJ5"
      },
      "outputs": [
        {
          "name": "stdout",
          "output_type": "stream",
          "text": [
            "Number of classes: 8\n"
          ]
        }
      ],
      "source": [
        "num_classes = len(train_generator.class_indices)\n",
        "print('Number of classes:', num_classes)"
      ]
    },
    {
      "cell_type": "code",
      "execution_count": 14,
      "metadata": {
        "id": "_vwiSh3PNsBP"
      },
      "outputs": [],
      "source": [
        "# 3. Fine-tune the Model\n",
        "model = Sequential()\n",
        "model.add(base_model)\n",
        "# model.add(Flatten())\n",
        "# model.add(Dense(512, activation='relu'))\n",
        "# model.add(Dropout(0.5))\n",
        "# model.add(Dense(num_classes, activation='softmax'))\n",
        "\n",
        "model.add(GlobalAveragePooling2D())\n",
        "\n",
        "model.add(Flatten())\n",
        "model.add(Dense(256, activation='relu'))\n",
        "model.add(Dropout(0.5))\n",
        "model.add(Dense(256, activation='relu'))\n",
        "model.add(Dropout(0.5))\n",
        "\n",
        "#\n",
        "model.add(Dense(num_classes, activation='softmax'))"
      ]
    },
    {
      "cell_type": "code",
      "execution_count": 15,
      "metadata": {
        "id": "ohd-TPu7Nv-_"
      },
      "outputs": [
        {
          "name": "stdout",
          "output_type": "stream",
          "text": [
            "Model: \"sequential\"\n",
            "_________________________________________________________________\n",
            " Layer (type)                Output Shape              Param #   \n",
            "=================================================================\n",
            " vgg16 (Functional)          (None, 7, 7, 512)         14714688  \n",
            "                                                                 \n",
            " global_average_pooling2d (  (None, 512)               0         \n",
            " GlobalAveragePooling2D)                                         \n",
            "                                                                 \n",
            " flatten (Flatten)           (None, 512)               0         \n",
            "                                                                 \n",
            " dense (Dense)               (None, 256)               131328    \n",
            "                                                                 \n",
            " dropout (Dropout)           (None, 256)               0         \n",
            "                                                                 \n",
            " dense_1 (Dense)             (None, 256)               65792     \n",
            "                                                                 \n",
            " dropout_1 (Dropout)         (None, 256)               0         \n",
            "                                                                 \n",
            " dense_2 (Dense)             (None, 8)                 2056      \n",
            "                                                                 \n",
            "=================================================================\n",
            "Total params: 14913864 (56.89 MB)\n",
            "Trainable params: 199176 (778.03 KB)\n",
            "Non-trainable params: 14714688 (56.13 MB)\n",
            "_________________________________________________________________\n"
          ]
        }
      ],
      "source": [
        "model.summary()"
      ]
    },
    {
      "cell_type": "code",
      "execution_count": 17,
      "metadata": {
        "id": "uD9ZVj7kNzRc"
      },
      "outputs": [
        {
          "name": "stdout",
          "output_type": "stream",
          "text": [
            "You must install pydot (`pip install pydot`) and install graphviz (see instructions at https://graphviz.gitlab.io/download/) for plot_model to work.\n"
          ]
        }
      ],
      "source": [
        "tf.keras.utils.plot_model(model, to_file='vgg16-image-classifier.png', show_shapes=True, show_layer_names=True)"
      ]
    },
    {
      "cell_type": "code",
      "execution_count": 18,
      "metadata": {
        "id": "YK3HR9eLN0Cn"
      },
      "outputs": [],
      "source": [
        "model.compile(optimizer=Adam(learning_rate=0.001),\n",
        "              loss='SparseCategoricalCrossentropy',\n",
        "              metrics=['accuracy'])"
      ]
    },
    {
      "cell_type": "code",
      "execution_count": 19,
      "metadata": {
        "id": "zBuXyBaqN15I"
      },
      "outputs": [],
      "source": [
        "checkpoint = ModelCheckpoint('vgg16_best_weights.h5',\n",
        "                             monitor='val_accuracy',\n",
        "                            #  monitor='val_f1_score',\n",
        "                             verbose=1,\n",
        "                             mode='max',\n",
        "                             save_best_only=True)\n",
        "\n",
        "early = EarlyStopping(monitor=\"val_loss\",\n",
        "                      mode=\"min\",\n",
        "                      restore_best_weights=True,\n",
        "                      patience=5)\n",
        "\n",
        "callbacks_list = [checkpoint,early]"
      ]
    },
    {
      "cell_type": "code",
      "execution_count": 22,
      "metadata": {
        "id": "LPjmCYgPN5AQ"
      },
      "outputs": [
        {
          "name": "stdout",
          "output_type": "stream",
          "text": [
            "Epoch 1/3\n",
            "1278/1278 [==============================] - ETA: 0s - loss: 1.5575 - accuracy: 0.4323\n",
            "Epoch 1: val_accuracy improved from -inf to 0.50389, saving model to vgg16_best_weights.h5\n"
          ]
        },
        {
          "name": "stderr",
          "output_type": "stream",
          "text": [
            "c:\\Users\\Acer\\AppData\\Local\\Programs\\Python\\Python310\\lib\\site-packages\\keras\\src\\engine\\training.py:3103: UserWarning: You are saving your model as an HDF5 file via `model.save()`. This file format is considered legacy. We recommend using instead the native Keras format, e.g. `model.save('my_model.keras')`.\n",
            "  saving_api.save_model(\n"
          ]
        },
        {
          "name": "stdout",
          "output_type": "stream",
          "text": [
            "1278/1278 [==============================] - 1625s 1s/step - loss: 1.5575 - accuracy: 0.4323 - val_loss: 1.3533 - val_accuracy: 0.5039\n",
            "Epoch 2/3\n",
            "1278/1278 [==============================] - ETA: 0s - loss: 1.4192 - accuracy: 0.4824\n",
            "Epoch 2: val_accuracy did not improve from 0.50389\n",
            "1278/1278 [==============================] - 1684s 1s/step - loss: 1.4192 - accuracy: 0.4824 - val_loss: 1.3673 - val_accuracy: 0.4961\n",
            "Epoch 3/3\n",
            "1278/1278 [==============================] - ETA: 0s - loss: 1.3934 - accuracy: 0.4885\n",
            "Epoch 3: val_accuracy did not improve from 0.50389\n",
            "1278/1278 [==============================] - 1625s 1s/step - loss: 1.3934 - accuracy: 0.4885 - val_loss: 1.3361 - val_accuracy: 0.5023\n"
          ]
        }
      ],
      "source": [
        "history = model.fit(\n",
        "    train_generator,\n",
        "    epochs=3,\n",
        "    validation_data=test_generator,\n",
        "    callbacks=[callbacks_list],\n",
        "    verbose=True,\n",
        "    shuffle=True)"
      ]
    },
    {
      "cell_type": "code",
      "execution_count": 23,
      "metadata": {
        "id": "25f8x0zyOD40"
      },
      "outputs": [],
      "source": [
        "def plot_learning_curve(history, metrics):\n",
        "    acc = history.history[metrics]\n",
        "    val_acc = history.history[f'val_{metrics}']\n",
        "    loss = history.history['loss']\n",
        "    val_loss = history.history['val_loss']\n",
        "    epochs = range(len(acc))\n",
        "\n",
        "    plt.figure(figsize=(5,3))\n",
        "    plt.plot(epochs, acc, label=f'training {metrics}')\n",
        "    plt.plot(epochs, val_acc, label=f'validation {metrics}')\n",
        "    plt.grid()\n",
        "    plt.xlabel('Epochs')\n",
        "    plt.ylabel(metrics)\n",
        "    plt.legend()\n",
        "\n",
        "    plt.figure(figsize=(5,3))\n",
        "    plt.plot(epochs, loss, label='training loss')\n",
        "    plt.plot(epochs, val_loss, label='validation loss')\n",
        "    plt.grid()\n",
        "    plt.xlabel('Epochs')\n",
        "    plt.ylabel('Loss')\n",
        "    plt.legend()\n",
        "\n",
        "    plt.show()"
      ]
    },
    {
      "cell_type": "code",
      "execution_count": 24,
      "metadata": {
        "id": "IiT5vs8vOFne"
      },
      "outputs": [
        {
          "name": "stdout",
          "output_type": "stream",
          "text": [
            "1278/1278 [==============================] - 1531s 1s/step - loss: 1.2982 - accuracy: 0.5031\n",
            "161/161 [==============================] - 186s 1s/step - loss: 1.3361 - accuracy: 0.5023\n"
          ]
        }
      ],
      "source": [
        "train_result = model.evaluate(train_generator)\n",
        "test_result = model.evaluate(test_generator)"
      ]
    },
    {
      "cell_type": "code",
      "execution_count": 25,
      "metadata": {
        "id": "MaHxSLJwOJAm"
      },
      "outputs": [
        {
          "name": "stdout",
          "output_type": "stream",
          "text": [
            "Train Loss: 1.2982\n",
            "Test Loss: 1.3361\n",
            "Train Accuracy: 0.503\n",
            "Test Accuracy: 0.502\n"
          ]
        }
      ],
      "source": [
        "print(f\"Train Loss: {np.round(train_result[0], 4)}\")\n",
        "print(f\"Test Loss: {np.round(test_result[0], 4)}\")\n",
        "print(f\"Train Accuracy: {np.round(train_result[1], 3)}\")\n",
        "print(f\"Test Accuracy: {np.round(test_result[1], 3)}\")\n"
      ]
    },
    {
      "cell_type": "code",
      "execution_count": 26,
      "metadata": {
        "id": "mF-hY3YaOKHu"
      },
      "outputs": [
        {
          "name": "stdout",
          "output_type": "stream",
          "text": [
            "161/161 [==============================] - 193s 1s/step\n",
            "(643, 8)\n"
          ]
        }
      ],
      "source": [
        "y_pred_probs = model.predict(test_generator)\n",
        "print(y_pred_probs.shape)"
      ]
    },
    {
      "cell_type": "code",
      "execution_count": 27,
      "metadata": {
        "id": "ojrAF797OLjK"
      },
      "outputs": [
        {
          "data": {
            "text/plain": [
              "array([0, 0, 0, 0, 0, 0, 0, 0, 0, 0, 0, 0, 0, 0, 0, 0, 0, 0, 0, 0, 0, 0,\n",
              "       0, 0, 0, 0, 0, 1, 1, 1, 1, 1, 1, 1, 1, 1, 1, 1, 1, 1, 1, 1, 1, 1,\n",
              "       1, 1, 1, 1, 1, 1, 1, 1, 1, 1, 1, 1, 1, 2, 2, 2, 2, 2, 2, 2, 2, 2,\n",
              "       2, 2, 2, 2, 2, 2, 2, 2, 2, 2, 2, 2, 2, 2, 2, 2, 2, 2, 2, 2, 2, 2,\n",
              "       2, 2, 2, 2, 2, 2, 2, 2, 2, 2, 2, 2, 2, 2, 2, 2, 2, 2, 2, 2, 2, 2,\n",
              "       2, 2, 2, 2, 2, 2, 2, 2, 2, 2, 2, 2, 2, 2, 2, 2, 2, 2, 2, 2, 2, 2,\n",
              "       2, 2, 2, 2, 2, 2, 2, 2, 2, 2, 2, 2, 2, 2, 2, 2, 2, 2, 2, 2, 2, 2,\n",
              "       2, 2, 2, 2, 2, 2, 2, 2, 2, 2, 2, 2, 2, 2, 2, 2, 2, 2, 2, 2, 2, 2,\n",
              "       2, 2, 2, 2, 2, 2, 2, 2, 2, 2, 2, 2, 2, 2, 2, 2, 2, 2, 2, 2, 2, 2,\n",
              "       2, 2, 2, 2, 2, 2, 2, 2, 2, 2, 2, 2, 2, 2, 2, 2, 2, 2, 2, 2, 3, 3,\n",
              "       3, 3, 3, 3, 3, 3, 3, 3, 3, 3, 3, 3, 3, 3, 3, 3, 3, 3, 3, 3, 3, 3,\n",
              "       3, 3, 3, 3, 3, 4, 4, 4, 4, 4, 4, 4, 4, 4, 4, 4, 4, 4, 5, 5, 5, 5,\n",
              "       5, 5, 5, 5, 5, 5, 5, 5, 5, 5, 5, 5, 5, 5, 5, 5, 5, 5, 5, 5, 6, 6,\n",
              "       6, 6, 6, 6, 6, 6, 6, 6, 6, 6, 6, 6, 6, 6, 6, 6, 6, 6, 6, 6, 6, 6,\n",
              "       6, 6, 6, 6, 6, 6, 6, 6, 6, 6, 6, 6, 6, 6, 6, 6, 6, 6, 6, 6, 6, 6,\n",
              "       6, 6, 6, 6, 6, 6, 6, 6, 6, 6, 6, 6, 6, 6, 6, 6, 6, 6, 6, 6, 6, 6,\n",
              "       6, 6, 6, 6, 6, 6, 6, 6, 6, 6, 6, 6, 6, 6, 6, 6, 6, 6, 6, 6, 6, 6,\n",
              "       6, 6, 6, 6, 6, 6, 6, 6, 6, 6, 6, 6, 6, 6, 6, 6, 6, 6, 6, 6, 6, 6,\n",
              "       6, 6, 6, 6, 6, 6, 6, 6, 6, 6, 6, 6, 6, 6, 6, 6, 6, 6, 6, 6, 6, 6,\n",
              "       6, 6, 6, 6, 6, 6, 6, 6, 6, 6, 6, 6, 6, 6, 6, 6, 6, 6, 6, 6, 6, 6,\n",
              "       6, 6, 6, 6, 6, 6, 6, 6, 6, 6, 6, 6, 6, 6, 6, 6, 6, 6, 6, 6, 6, 6,\n",
              "       6, 6, 6, 6, 6, 6, 6, 6, 6, 6, 6, 6, 6, 6, 6, 6, 6, 6, 6, 6, 6, 6,\n",
              "       6, 6, 6, 6, 6, 6, 6, 6, 6, 6, 6, 6, 6, 6, 6, 6, 6, 6, 6, 6, 6, 6,\n",
              "       6, 6, 6, 6, 6, 6, 6, 6, 6, 6, 6, 6, 6, 6, 6, 6, 6, 6, 6, 6, 6, 6,\n",
              "       6, 6, 6, 6, 6, 6, 6, 6, 6, 6, 6, 6, 6, 6, 6, 6, 6, 6, 6, 6, 6, 6,\n",
              "       6, 6, 6, 6, 6, 6, 6, 6, 6, 6, 6, 6, 6, 6, 6, 6, 6, 6, 6, 6, 6, 6,\n",
              "       7, 7, 7, 7, 7, 7, 7, 7, 7, 7, 7, 7, 7, 7, 7, 7, 7, 7, 7, 7, 7, 7,\n",
              "       7, 7, 7, 7, 7, 7, 7, 7, 7, 7, 7, 7, 7, 7, 7, 7, 7, 7, 7, 7, 7, 7,\n",
              "       7, 7, 7, 7, 7, 7, 7, 7, 7, 7, 7, 7, 7, 7, 7, 7, 7, 7, 7, 7, 7, 7,\n",
              "       7, 7, 7, 7, 7])"
            ]
          },
          "execution_count": 27,
          "metadata": {},
          "output_type": "execute_result"
        }
      ],
      "source": [
        "y_true = test_generator.classes\n",
        "y_true"
      ]
    },
    {
      "cell_type": "code",
      "execution_count": 28,
      "metadata": {
        "id": "jBs09x3tOM8H"
      },
      "outputs": [
        {
          "data": {
            "text/plain": [
              "(643,)"
            ]
          },
          "execution_count": 28,
          "metadata": {},
          "output_type": "execute_result"
        }
      ],
      "source": [
        "y_true.shape"
      ]
    },
    {
      "cell_type": "code",
      "execution_count": 29,
      "metadata": {
        "id": "xHUvEz-yOQI5"
      },
      "outputs": [
        {
          "name": "stdout",
          "output_type": "stream",
          "text": [
            "ageDegeneration:  27\n",
            "cataract:  30\n",
            "diabetes:  161\n",
            "glaucoma:  29\n",
            "hypertension:  13\n",
            "myopia:  24\n",
            "normal:  288\n",
            "others:  71\n"
          ]
        }
      ],
      "source": [
        "print('ageDegeneration: ',len(np.where(y_true==0)[0]))\n",
        "print('cataract: ',len(np.where(y_true==1)[0]))\n",
        "print('diabetes: ',len(np.where(y_true==2)[0]))\n",
        "print('glaucoma: ',len(np.where(y_true==3)[0]))\n",
        "print('hypertension: ',len(np.where(y_true==4)[0]))\n",
        "print('myopia: ',len(np.where(y_true==5)[0]))\n",
        "print('normal: ',len(np.where(y_true==6)[0]))\n",
        "print('others: ',len(np.where(y_true==7)[0]))"
      ]
    },
    {
      "cell_type": "code",
      "execution_count": null,
      "metadata": {
        "id": "K9lVg92kOQ01"
      },
      "outputs": [],
      "source": [
        "y_pred_probs = model.predict(test_generator)"
      ]
    },
    {
      "cell_type": "code",
      "execution_count": 30,
      "metadata": {
        "id": "2eTVhxbyOTD4"
      },
      "outputs": [],
      "source": [
        "classes_names = list(test_generator.class_indices.keys())"
      ]
    },
    {
      "cell_type": "code",
      "execution_count": 31,
      "metadata": {
        "id": "gG4s1TjBOWuC"
      },
      "outputs": [
        {
          "name": "stdout",
          "output_type": "stream",
          "text": [
            "Confusion Matrix:\n",
            " [[  0   0   0   0   0   0  27   0]\n",
            " [  0  16   0   0   0   0  14   0]\n",
            " [  0   1   1   0   0   0 159   0]\n",
            " [  0   0   0   0   0   0  29   0]\n",
            " [  0   0   0   0   0   0  13   0]\n",
            " [  0   0   0   0   0  18   6   0]\n",
            " [  0   0   0   0   0   0 288   0]\n",
            " [  0   2   0   0   0   2  67   0]]\n",
            "Perfect Confusion Matrix:\n",
            " [[ 27   0   0   0   0   0   0   0]\n",
            " [  0  30   0   0   0   0   0   0]\n",
            " [  0   0 161   0   0   0   0   0]\n",
            " [  0   0   0  29   0   0   0   0]\n",
            " [  0   0   0   0  13   0   0   0]\n",
            " [  0   0   0   0   0  24   0   0]\n",
            " [  0   0   0   0   0   0 288   0]\n",
            " [  0   0   0   0   0   0   0  71]]\n",
            "\n",
            "Classification Report:\n",
            "                  precision    recall  f1-score   support\n",
            "\n",
            "ageDegeneration       0.00      0.00      0.00        27\n",
            "       cataract       0.84      0.53      0.65        30\n",
            "       diabetes       1.00      0.01      0.01       161\n",
            "       glaucoma       0.00      0.00      0.00        29\n",
            "   hypertension       0.00      0.00      0.00        13\n",
            "         myopia       0.90      0.75      0.82        24\n",
            "         normal       0.48      1.00      0.65       288\n",
            "         others       0.00      0.00      0.00        71\n",
            "\n",
            "       accuracy                           0.50       643\n",
            "      macro avg       0.40      0.29      0.27       643\n",
            "   weighted avg       0.54      0.50      0.35       643\n",
            "\n"
          ]
        },
        {
          "name": "stderr",
          "output_type": "stream",
          "text": [
            "c:\\Users\\Acer\\AppData\\Local\\Programs\\Python\\Python310\\lib\\site-packages\\sklearn\\metrics\\_classification.py:1469: UndefinedMetricWarning: Precision and F-score are ill-defined and being set to 0.0 in labels with no predicted samples. Use `zero_division` parameter to control this behavior.\n",
            "  _warn_prf(average, modifier, msg_start, len(result))\n",
            "c:\\Users\\Acer\\AppData\\Local\\Programs\\Python\\Python310\\lib\\site-packages\\sklearn\\metrics\\_classification.py:1469: UndefinedMetricWarning: Precision and F-score are ill-defined and being set to 0.0 in labels with no predicted samples. Use `zero_division` parameter to control this behavior.\n",
            "  _warn_prf(average, modifier, msg_start, len(result))\n",
            "c:\\Users\\Acer\\AppData\\Local\\Programs\\Python\\Python310\\lib\\site-packages\\sklearn\\metrics\\_classification.py:1469: UndefinedMetricWarning: Precision and F-score are ill-defined and being set to 0.0 in labels with no predicted samples. Use `zero_division` parameter to control this behavior.\n",
            "  _warn_prf(average, modifier, msg_start, len(result))\n"
          ]
        }
      ],
      "source": [
        "# Convert predicted probabilities to class labels\n",
        "y_pred = np.argmax(y_pred_probs, axis=1)\n",
        "# Calculate confusion matrix\n",
        "confusion = confusion_matrix(y_true, y_pred)\n",
        "print(\"Confusion Matrix:\\n\", confusion)\n",
        "# Calculate perfect confusion matrix\n",
        "p_confusion = confusion_matrix(y_true, y_true)\n",
        "print(\"Perfect Confusion Matrix:\\n\", p_confusion)\n",
        "# Calculate precision, recall, and f1-score\n",
        "report = classification_report(y_true, y_pred, target_names=classes_names)\n",
        "print(\"\\nClassification Report:\\n\", report)"
      ]
    },
    {
      "cell_type": "code",
      "execution_count": 32,
      "metadata": {
        "id": "PhZ1s2jOOXRg"
      },
      "outputs": [
        {
          "data": {
            "image/png": "[encoded data removed]",
            "text/plain": [
              "<Figure size 500x500 with 1 Axes>"
            ]
          },
          "metadata": {},
          "output_type": "display_data"
        }
      ],
      "source": [
        "plt.figure(figsize=(5, 5))\n",
        "hmap = sns.heatmap(confusion, annot=True, vmin=0,\n",
        "                 fmt='g', cmap='Blues', cbar=False,\n",
        "                 xticklabels=classes_names,\n",
        "                 yticklabels=classes_names)\n",
        "\n",
        "hmap.set(xlabel='Predicted Labels')\n",
        "hmap.set(ylabel='True Labels')\n",
        "plt.show()"
      ]
    },
    {
      "cell_type": "code",
      "execution_count": 33,
      "metadata": {
        "id": "ryHBzFHKOZV1"
      },
      "outputs": [
        {
          "name": "stdout",
          "output_type": "stream",
          "text": [
            "Total of 320 missclassified images\n",
            "Missclassified images index:  [  0   1   2   3   4   5   6   7   8   9  10  11  12  13  14  15  16  17\n",
            "  18  19  20  21  22  23  24  25  26  27  28  29  32  33  34  35  39  42\n",
            "  45  46  49  53  54  57  58  59  60  61  62  63  64  65  66  67  68  69\n",
            "  70  71  72  73  74  75  76  77  78  79  80  81  82  83  84  85  86  87\n",
            "  88  89  90  91  92  93  94  95  96  97  98  99 100 101 102 103 104 105\n",
            " 106 108 109 110 111 112 113 114 115 116 117 118 119 120 121 122 123 124\n",
            " 125 126 127 128 129 130 131 132 133 134 135 136 137 138 139 140 141 142\n",
            " 143 144 145 146 147 148 149 150 151 152 153 154 155 156 157 158 159 160\n",
            " 161 162 163 164 165 166 167 168 169 170 171 172 173 174 175 176 177 178\n",
            " 179 180 181 182 183 184 185 186 187 188 189 190 191 192 193 194 195 196\n",
            " 197 198 199 200 201 202 203 204 205 206 207 208 209 210 211 212 213 214\n",
            " 215 216 217 218 219 220 221 222 223 224 225 226 227 228 229 230 231 232\n",
            " 233 234 235 236 237 238 239 240 241 242 243 244 245 246 247 248 249 250\n",
            " 251 252 253 254 255 256 257 258 259 269 270 274 276 280 282 572 573 574\n",
            " 575 576 577 578 579 580 581 582 583 584 585 586 587 588 589 590 591 592\n",
            " 593 594 595 596 597 598 599 600 601 602 603 604 605 606 607 608 609 610\n",
            " 611 612 613 614 615 616 617 618 619 620 621 622 623 624 625 626 627 628\n",
            " 629 630 631 632 633 634 635 636 637 638 639 640 641 642]\n"
          ]
        }
      ],
      "source": [
        "#Extract wrong classification index\n",
        "wrong_pred = np.where(y_pred!=y_true)[0]\n",
        "print(f'Total of {len(wrong_pred)} missclassified images')\n",
        "print('Missclassified images index: ',wrong_pred)"
      ]
    },
    {
      "cell_type": "code",
      "execution_count": null,
      "metadata": {
        "id": "S_LmB18kObJg"
      },
      "outputs": [],
      "source": [
        "class_map = {0: 'ageDegeneration', 1: 'cataract', 2: 'diabetes', 3:'glaucoma', 4:'hypertension', 5:'myopia', 6:'normal', 7:'others'}\n",
        "\n",
        "plt.figure(figsize=(10, 5))\n",
        "for i, index in enumerate(wrong_pred):\n",
        "    plt.subplot(1, len(wrong_pred), i + 1)\n",
        "\n",
        "    # reverting scalling (done in preprocessing stage)\n",
        "    plt.imshow((images[index]*255).astype('uint8'))\n",
        "\n",
        "    plt.text(5, 10, f\"True: {class_map[int(true_labels[index])]}\",\n",
        "             color='green', bbox=dict(facecolor='white', alpha=0.6))\n",
        "    plt.text(5, 30, f\"Pred: {class_map[y_pred[index]]}\",\n",
        "             color='red', bbox=dict(facecolor='white', alpha=0.6))\n",
        "\n",
        "    plt.axis('off')\n",
        "plt.tight_layout()\n",
        "plt.show()"
      ]
    }
  ],
  "metadata": {
    "colab": {
      "authorship_tag": "ABX9TyM35X5aGQXOUVIdnNEIth2D",
      "include_colab_link": true,
      "provenance": []
    },
    "kernelspec": {
      "display_name": "Python 3",
      "name": "python3"
    },
    "language_info": {
      "codemirror_mode": {
        "name": "ipython",
        "version": 3
      },
      "file_extension": ".py",
      "mimetype": "text/x-python",
      "name": "python",
      "nbconvert_exporter": "python",
      "pygments_lexer": "ipython3",
      "version": "3.10.0"
    }
  },
  "nbformat": 4,
  "nbformat_minor": 0
}
