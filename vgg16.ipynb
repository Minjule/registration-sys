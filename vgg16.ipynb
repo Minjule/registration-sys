{
  "nbformat": 4,
  "nbformat_minor": 0,
  "metadata": {
    "colab": {
      "provenance": [],
      "authorship_tag": "ABX9TyM35X5aGQXOUVIdnNEIth2D",
      "include_colab_link": true
    },
    "kernelspec": {
      "name": "python3",
      "display_name": "Python 3"
    },
    "language_info": {
      "name": "python"
    }
  },
  "cells": [
    {
      "cell_type": "markdown",
      "metadata": {
        "id": "view-in-github",
        "colab_type": "text"
      },
      "source": [
        "<a href=\"https://colab.research.google.com/github/Minjule/registration-sys/blob/main/vgg16.ipynb\" target=\"_parent\"><img src=\"https://colab.research.google.com/assets/colab-badge.svg\" alt=\"Open In Colab\"/></a>"
      ]
    },
    {
      "cell_type": "code",
      "execution_count": null,
      "metadata": {
        "id": "TzawweivMzPR"
      },
      "outputs": [],
      "source": [
        "from zipfile import ZipFile\n",
        "file_path = \"/content/covid19-image-dataset.zip\"\n",
        "with ZipFile(file_path, 'r') as zip_file:\n",
        "  zip_file.extractall()\n",
        "  print('Extraction Compelted')"
      ]
    },
    {
      "cell_type": "code",
      "source": [
        "import os\n",
        "import math\n",
        "import pandas as pd\n",
        "import matplotlib.pyplot as plt\n",
        "import numpy as np\n",
        "import random as python_random\n",
        "import tensorflow as tf\n",
        "import seaborn as sns\n",
        "import math\n",
        "from sklearn.metrics import classification_report, confusion_matrix\n",
        "from tensorflow.keras.preprocessing.image import ImageDataGenerator\n",
        "import cv2\n",
        "from tensorflow.keras.callbacks import ModelCheckpoint\n",
        "from  tensorflow.keras.callbacks import EarlyStopping\n",
        "from keras import backend as K\n",
        "from tensorflow.keras.applications import VGG16\n",
        "from tensorflow.keras.layers import Flatten, Dense, Dropout, GlobalAveragePooling2D\n",
        "from tensorflow.keras.models import Sequential\n",
        "from tensorflow.keras.optimizers import Adam"
      ],
      "metadata": {
        "id": "LGZ0Vd87NGxS"
      },
      "execution_count": null,
      "outputs": []
    },
    {
      "cell_type": "code",
      "source": [
        "np.random.seed(42)\n",
        "tf.random.set_seed(42)"
      ],
      "metadata": {
        "id": "52qe-Y74NIri"
      },
      "execution_count": null,
      "outputs": []
    },
    {
      "cell_type": "code",
      "source": [
        "train_dir = \"/content/Covid19-dataset/train\"\n",
        "test_dir = \"/content/Covid19-dataset/test\"\n",
        "\n",
        "train_generator = train_datagen.flow_from_directory(\n",
        "    train_dir,\n",
        "    target_size=(HEIGHT, WIDTH),\n",
        "    batch_size=BATCH_SIZE,\n",
        "    class_mode='sparse',\n",
        "    shuffle=True,\n",
        "    classes={'Normal': 0, 'Viral Pneumonia': 1,'Covid': 2}\n",
        "    )\n",
        "\n",
        "test_generator = test_datagen.flow_from_directory(\n",
        "    test_dir,\n",
        "    target_size=(HEIGHT, WIDTH),\n",
        "    batch_size=BATCH_SIZE,\n",
        "    class_mode='sparse',\n",
        "    shuffle=False,\n",
        "    classes={'Normal': 0, 'Viral Pneumonia': 1,'Covid': 2}\n",
        "    )\n",
        "\n",
        "# shuffle=True will shuffle the images and labels within each batch\n",
        "#  but the correspondence between the images and labels will be maintained."
      ],
      "metadata": {
        "id": "Mn3AfO1KNPMh"
      },
      "execution_count": null,
      "outputs": []
    },
    {
      "cell_type": "code",
      "source": [
        "total_image = np.concatenate([train_generator.labels,test_generator.labels])"
      ],
      "metadata": {
        "id": "BnWjRNd_NPyB"
      },
      "execution_count": null,
      "outputs": []
    },
    {
      "cell_type": "code",
      "source": [
        "print('Normal_cases: ',len(np.where(total_image==0)[0]))\n",
        "print('Viral_Pneumonia_cases: ',len(np.where(total_image==1)[0]))\n",
        "print('Covid_cases: ',len(np.where(total_image==2)[0]))"
      ],
      "metadata": {
        "id": "qop5NEDwNTpB"
      },
      "execution_count": null,
      "outputs": []
    },
    {
      "cell_type": "markdown",
      "source": [
        "# ***Implementing VGG16 - Transfer Learning***"
      ],
      "metadata": {
        "id": "2uw40pOSNdZm"
      }
    },
    {
      "cell_type": "code",
      "source": [
        "tf.keras.backend.clear_session()"
      ],
      "metadata": {
        "id": "CoOAU7hENW5r"
      },
      "execution_count": null,
      "outputs": []
    },
    {
      "cell_type": "code",
      "source": [
        "# Loading VGG16 Model with Pre-trained Weights - without final (top) later as we will customize it\n",
        "base_model = VGG16(weights='imagenet',\n",
        "                   include_top=False,\n",
        "                   input_shape=(HEIGHT, WIDTH, 3))"
      ],
      "metadata": {
        "id": "6Ujv4Y_fNlI5"
      },
      "execution_count": null,
      "outputs": []
    },
    {
      "cell_type": "code",
      "source": [
        "# Freeze the layers of the base model\n",
        "# so that ony final layer learns from new dataset\n",
        "for layer in base_model.layers:\n",
        "    layer.trainable = False"
      ],
      "metadata": {
        "id": "g0lqnK0lNn0Q"
      },
      "execution_count": null,
      "outputs": []
    },
    {
      "cell_type": "code",
      "source": [
        "num_classes = len(train_generator.class_indices)\n",
        "print('Number of classes:', num_classes)"
      ],
      "metadata": {
        "id": "dboD06SkNqJ5"
      },
      "execution_count": null,
      "outputs": []
    },
    {
      "cell_type": "code",
      "source": [
        "# 3. Fine-tune the Model\n",
        "model = Sequential()\n",
        "model.add(base_model)\n",
        "# model.add(Flatten())\n",
        "# model.add(Dense(512, activation='relu'))\n",
        "# model.add(Dropout(0.5))\n",
        "# model.add(Dense(num_classes, activation='softmax'))\n",
        "\n",
        "model.add(GlobalAveragePooling2D())\n",
        "\n",
        "model.add(Flatten())\n",
        "model.add(Dense(256, activation='relu'))\n",
        "model.add(Dropout(0.5))\n",
        "model.add(Dense(256, activation='relu'))\n",
        "model.add(Dropout(0.5))\n",
        "\n",
        "#\n",
        "model.add(Dense(num_classes, activation='softmax'))"
      ],
      "metadata": {
        "id": "_vwiSh3PNsBP"
      },
      "execution_count": null,
      "outputs": []
    },
    {
      "cell_type": "code",
      "source": [
        "model.summary()"
      ],
      "metadata": {
        "id": "ohd-TPu7Nv-_"
      },
      "execution_count": null,
      "outputs": []
    },
    {
      "cell_type": "code",
      "source": [
        "tf.keras.utils.plot_model(model, to_file='vgg16-image-classifier.png', show_shapes=True, show_layer_names=True)"
      ],
      "metadata": {
        "id": "uD9ZVj7kNzRc"
      },
      "execution_count": null,
      "outputs": []
    },
    {
      "cell_type": "code",
      "source": [
        "model.compile(optimizer=Adam(learning_rate=0.001),\n",
        "              loss='SparseCategoricalCrossentropy',\n",
        "              metrics=['accuracy'])"
      ],
      "metadata": {
        "id": "YK3HR9eLN0Cn"
      },
      "execution_count": null,
      "outputs": []
    },
    {
      "cell_type": "code",
      "source": [
        "checkpoint = ModelCheckpoint('vgg16_best_weights.h5',\n",
        "                             monitor='val_accuracy',\n",
        "                            #  monitor='val_f1_score',\n",
        "                             verbose=1,\n",
        "                             mode='max',\n",
        "                             save_best_only=True)\n",
        "\n",
        "early = EarlyStopping(monitor=\"val_loss\",\n",
        "                      mode=\"min\",\n",
        "                      restore_best_weights=True,\n",
        "                      patience=5)\n",
        "\n",
        "callbacks_list = [checkpoint,early]"
      ],
      "metadata": {
        "id": "zBuXyBaqN15I"
      },
      "execution_count": null,
      "outputs": []
    },
    {
      "cell_type": "code",
      "source": [
        "history = model.fit(\n",
        "    train_generator,\n",
        "    epochs=50,\n",
        "    validation_data=test_generator,\n",
        "    callbacks=[callbacks_list],\n",
        "    verbose=True,\n",
        "    shuffle=True)"
      ],
      "metadata": {
        "id": "LPjmCYgPN5AQ"
      },
      "execution_count": null,
      "outputs": []
    },
    {
      "cell_type": "code",
      "source": [
        "def plot_learning_curve(history, metrics):\n",
        "    acc = history.history[metrics]\n",
        "    val_acc = history.history[f'val_{metrics}']\n",
        "    loss = history.history['loss']\n",
        "    val_loss = history.history['val_loss']\n",
        "    epochs = range(len(acc))\n",
        "\n",
        "    plt.figure(figsize=(5,3))\n",
        "    plt.plot(epochs, acc, label=f'training {metrics}')\n",
        "    plt.plot(epochs, val_acc, label=f'validation {metrics}')\n",
        "    plt.grid()\n",
        "    plt.xlabel('Epochs')\n",
        "    plt.ylabel(metrics)\n",
        "    plt.legend()\n",
        "\n",
        "    plt.figure(figsize=(5,3))\n",
        "    plt.plot(epochs, loss, label='training loss')\n",
        "    plt.plot(epochs, val_loss, label='validation loss')\n",
        "    plt.grid()\n",
        "    plt.xlabel('Epochs')\n",
        "    plt.ylabel('Loss')\n",
        "    plt.legend()\n",
        "\n",
        "    plt.show()"
      ],
      "metadata": {
        "id": "25f8x0zyOD40"
      },
      "execution_count": null,
      "outputs": []
    },
    {
      "cell_type": "code",
      "source": [
        "train_result = model.evaluate(train_generator)\n",
        "test_result = model.evaluate(test_generator)"
      ],
      "metadata": {
        "id": "IiT5vs8vOFne"
      },
      "execution_count": null,
      "outputs": []
    },
    {
      "cell_type": "code",
      "source": [
        "print(f\"Train Loss: {np.round(train_result[0], 4)}\")\n",
        "print(f\"Test Loss: {np.round(test_result[0], 4)}\")\n",
        "print(f\"Train Accuracy: {np.round(train_result[1], 3)}\")\n",
        "print(f\"Test Accuracy: {np.round(test_result[1], 3)}\")"
      ],
      "metadata": {
        "id": "MaHxSLJwOJAm"
      },
      "execution_count": null,
      "outputs": []
    },
    {
      "cell_type": "code",
      "source": [
        "y_pred_probs = model.predict(test_generator)\n",
        "print(y_pred_probs.shape)"
      ],
      "metadata": {
        "id": "mF-hY3YaOKHu"
      },
      "execution_count": null,
      "outputs": []
    },
    {
      "cell_type": "code",
      "source": [
        "y_true = test_generator.classes\n",
        "y_true"
      ],
      "metadata": {
        "id": "ojrAF797OLjK"
      },
      "execution_count": null,
      "outputs": []
    },
    {
      "cell_type": "code",
      "source": [
        "y_true.shape"
      ],
      "metadata": {
        "id": "jBs09x3tOM8H"
      },
      "execution_count": null,
      "outputs": []
    },
    {
      "cell_type": "code",
      "source": [
        "print('Normal_cases: ',len(np.where(y_true==0)[0]))\n",
        "print('Viral_Pneumonia_cases: ',len(np.where(y_true==1)[0]))\n",
        "print('Covid_cases: ',len(np.where(y_true==2)[0]))"
      ],
      "metadata": {
        "id": "xHUvEz-yOQI5"
      },
      "execution_count": null,
      "outputs": []
    },
    {
      "cell_type": "code",
      "source": [
        "y_pred_probs = model.predict(test_generator)"
      ],
      "metadata": {
        "id": "K9lVg92kOQ01"
      },
      "execution_count": null,
      "outputs": []
    },
    {
      "cell_type": "code",
      "source": [
        "classes_names = list(test_generator.class_indices.keys())"
      ],
      "metadata": {
        "id": "2eTVhxbyOTD4"
      },
      "execution_count": null,
      "outputs": []
    },
    {
      "cell_type": "code",
      "source": [
        "# Convert predicted probabilities to class labels\n",
        "y_pred = np.argmax(y_pred_probs, axis=1)\n",
        "# Calculate confusion matrix\n",
        "confusion = confusion_matrix(y_true, y_pred)\n",
        "print(\"Confusion Matrix:\\n\", confusion)\n",
        "# Calculate perfect confusion matrix\n",
        "p_confusion = confusion_matrix(y_true, y_true)\n",
        "print(\"Perfect Confusion Matrix:\\n\", p_confusion)\n",
        "# Calculate precision, recall, and f1-score\n",
        "report = classification_report(y_true, y_pred, target_names=classes_names)\n",
        "print(\"\\nClassification Report:\\n\", report)"
      ],
      "metadata": {
        "id": "gG4s1TjBOWuC"
      },
      "execution_count": null,
      "outputs": []
    },
    {
      "cell_type": "code",
      "source": [
        "plt.figure(figsize=(5, 5))\n",
        "hmap = sns.heatmap(confusion, annot=True, vmin=0,\n",
        "                 fmt='g', cmap='Blues', cbar=False,\n",
        "                 xticklabels=classes_names,\n",
        "                 yticklabels=classes_names)\n",
        "\n",
        "hmap.set(xlabel='Predicted Labels')\n",
        "hmap.set(ylabel='True Labels')\n",
        "plt.show()"
      ],
      "metadata": {
        "id": "PhZ1s2jOOXRg"
      },
      "execution_count": null,
      "outputs": []
    },
    {
      "cell_type": "code",
      "source": [
        "#Extract wrong classification index\n",
        "wrong_pred = np.where(y_pred!=y_true)[0]\n",
        "print(f'Total of {len(wrong_pred)} missclassified images')\n",
        "print('Missclassified images index: ',wrong_pred)"
      ],
      "metadata": {
        "id": "ryHBzFHKOZV1"
      },
      "execution_count": null,
      "outputs": []
    },
    {
      "cell_type": "code",
      "source": [
        "class_map = {0: 'Normal', 1: 'Viral Pneumonia', 2: 'Covid'}\n",
        "\n",
        "plt.figure(figsize=(10, 5))\n",
        "for i, index in enumerate(wrong_pred):\n",
        "    plt.subplot(1, len(wrong_pred), i + 1)\n",
        "\n",
        "    # reverting scalling (done in preprocessing stage)\n",
        "    plt.imshow((images[index]*255).astype('uint8'))\n",
        "\n",
        "    plt.text(5, 10, f\"True: {class_map[int(true_labels[index])]}\",\n",
        "             color='green', bbox=dict(facecolor='white', alpha=0.6))\n",
        "    plt.text(5, 30, f\"Pred: {class_map[y_pred[index]]}\",\n",
        "             color='red', bbox=dict(facecolor='white', alpha=0.6))\n",
        "\n",
        "    plt.axis('off')\n",
        "plt.tight_layout()\n",
        "plt.show()"
      ],
      "metadata": {
        "id": "S_LmB18kObJg"
      },
      "execution_count": null,
      "outputs": []
    }
  ]
}